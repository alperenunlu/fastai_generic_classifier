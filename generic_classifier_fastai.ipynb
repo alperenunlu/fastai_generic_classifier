{
 "cells": [
  {
   "cell_type": "code",
   "execution_count": null,
   "metadata": {},
   "outputs": [],
   "source": [
    "!pip install -Uqq fastai duckduckgo_search gradio"
   ]
  },
  {
   "cell_type": "code",
   "execution_count": null,
   "metadata": {},
   "outputs": [],
   "source": [
    "from fastcore.all import *\n",
    "from fastai.vision.all import *\n",
    "from fastai.vision.widgets import *\n",
    "from fastdownload import download_url\n",
    "from duckduckgo_search import DDGS\n",
    "import warnings\n",
    "\n",
    "warnings.filterwarnings(\"ignore\")"
   ]
  },
  {
   "cell_type": "code",
   "execution_count": null,
   "metadata": {},
   "outputs": [],
   "source": [
    "def search_images(query, max_results=200):\n",
    "    ddgs = DDGS()\n",
    "    return L(ddgs.images(query, max_results=max_results)).itemgot('image')"
   ]
  },
  {
   "cell_type": "code",
   "execution_count": null,
   "metadata": {},
   "outputs": [],
   "source": [
    "searches = [\n",
    "    \"Tabby Cat\",\n",
    "    \"Ragdoll Cat\",\n",
    "    \"British Shorthair Cat\",\n",
    "]\n",
    "\n",
    "item_number = 1000\n",
    "\n",
    "arch = resnet34 # resnet50, resnet101, vgg16_bn"
   ]
  },
  {
   "cell_type": "code",
   "execution_count": null,
   "metadata": {},
   "outputs": [],
   "source": [
    "searches = sorted(list(map(lambda x: x.replace(\" \", \"_\"), searches)))\n",
    "\n",
    "if item_number < 64: raise ValueError(\"item_number must be at least 64 for batch_size=64\")\n",
    "elif item_number < 200: print(\"Consider using at least 200 images for better results\")"
   ]
  },
  {
   "cell_type": "code",
   "execution_count": null,
   "metadata": {},
   "outputs": [],
   "source": [
    "fig, ax = plt.subplots(1, len(searches), figsize=(5 * len(searches), 5))\n",
    "\n",
    "examples = []\n",
    "\n",
    "for i, search in enumerate(searches):\n",
    "    dest = Path(search + \".jpg\")\n",
    "    examples.append(dest)\n",
    "    img = PILImage.create(download_url(search_images(search, 1)[0], dest, show_progress=False))\n",
    "    img.show(ax=ax[i], title=search)"
   ]
  },
  {
   "cell_type": "code",
   "execution_count": null,
   "metadata": {},
   "outputs": [],
   "source": [
    "path = Path(\"image_classifier_data\")\n",
    "\n",
    "if not path.exists():\n",
    "    for search in searches:\n",
    "        dest = path / search\n",
    "        dest.mkdir(exist_ok=True, parents=True)\n",
    "        urls=search_images(search, item_number)\n",
    "        download_images(dest, urls=urls)\n",
    "\n",
    "failed = verify_images(get_image_files(path))\n",
    "failed.map(Path.unlink)\n",
    "len(failed)"
   ]
  },
  {
   "cell_type": "code",
   "execution_count": null,
   "metadata": {},
   "outputs": [],
   "source": [
    "dls = DataBlock(\n",
    "    blocks=(ImageBlock, CategoryBlock),\n",
    "    get_items=get_image_files,\n",
    "    splitter=RandomSplitter(valid_pct=0.2, seed=0),\n",
    "    get_y=parent_label,\n",
    "    item_tfms=Resize(224, method=\"squish\"),\n",
    "    batch_tfms=aug_transforms()\n",
    ").dataloaders(path)\n",
    "\n",
    "dls.show_batch()"
   ]
  },
  {
   "cell_type": "code",
   "execution_count": null,
   "metadata": {},
   "outputs": [],
   "source": [
    "callbacks = [\n",
    "    SaveModelCallback(monitor=\"accuracy\", fname=\"best_model\"),\n",
    "    EarlyStoppingCallback(monitor=\"valid_loss\", patience=3)\n",
    "]\n",
    "\n",
    "learn = vision_learner(dls, arch, metrics=accuracy, cbs=callbacks)\n",
    "learn.fine_tune(10)"
   ]
  },
  {
   "cell_type": "code",
   "execution_count": null,
   "metadata": {},
   "outputs": [],
   "source": [
    "interp = ClassificationInterpretation.from_learner(learn)\n",
    "interp.plot_confusion_matrix()"
   ]
  },
  {
   "cell_type": "code",
   "execution_count": null,
   "metadata": {},
   "outputs": [],
   "source": [
    "interp.plot_top_losses(10, nrows=2, figsize=(30, 10))"
   ]
  },
  {
   "cell_type": "code",
   "execution_count": null,
   "metadata": {},
   "outputs": [],
   "source": [
    "cleaner = ImageClassifierCleaner(learn)\n",
    "cleaner"
   ]
  },
  {
   "cell_type": "code",
   "execution_count": null,
   "metadata": {},
   "outputs": [],
   "source": [
    "for idx in cleaner.delete(): cleaner.fns[idx].unlink()\n",
    "for idx,cat in cleaner.change(): shutil.move(str(cleaner.fns[idx]), path/cat)"
   ]
  },
  {
   "cell_type": "code",
   "execution_count": null,
   "metadata": {},
   "outputs": [],
   "source": [
    "learn.vocab = dls.vocab\n",
    "learn.examples = examples\n",
    "learn.export(\"classifier.pkl\")"
   ]
  },
  {
   "cell_type": "code",
   "execution_count": null,
   "metadata": {},
   "outputs": [],
   "source": [
    "import gradio as gr\n",
    "from fastai.vision.all import *\n",
    "\n",
    "learn = load_learner(\"classifier.pkl\")\n",
    "\n",
    "classes = learn.vocab\n",
    "examples = learn.examples\n",
    "\n",
    "def classify_image(img):\n",
    "    pred, idx, probs = learn.predict(img)\n",
    "    return dict(zip(classes, map(float, probs)))\n",
    "\n",
    "image = gr.Image()\n",
    "label = gr.Label(num_top_classes=5)\n",
    "\n",
    "intf = gr.Interface(fn=classify_image, inputs=image, outputs=label, examples=examples)\n",
    "\n",
    "intf.launch()"
   ]
  },
  {
   "cell_type": "code",
   "execution_count": null,
   "metadata": {},
   "outputs": [],
   "source": [
    "app_path = Path(\"app\")\n",
    "app_path.mkdir(exist_ok=True)\n",
    "\n",
    "shutil.copy(\"classifier.pkl\", app_path / \"classifier.pkl\")\n",
    "\n",
    "for example in examples:\n",
    "    shutil.copy(example, app_path / example)\n",
    "\n",
    "with open(app_path / \"app.py\", \"w\") as f:\n",
    "    f.write(f\"\"\"import gradio as gr\n",
    "from fastai.vision.all import *\n",
    "\n",
    "learn = load_learner(\"classifier.pkl\")\n",
    "\n",
    "classes = learn.vocab\n",
    "examples = learn.examples\n",
    "\n",
    "def classify_image(img):\n",
    "    pred, idx, probs = learn.predict(img)\n",
    "    return dict(zip(classes, map(float, probs)))\n",
    "\n",
    "image = gr.Image()\n",
    "label = gr.Label(num_top_classes=5)\n",
    "\n",
    "intf = gr.Interface(fn=classify_image, inputs=image, outputs=label, examples=examples)\n",
    "\n",
    "intf.launch()\n",
    "\"\"\")\n",
    "\n",
    "with open(app_path / \"requirements.txt\", \"w\") as f:\n",
    "    f.write(\"fastai\\ngradio\\ntimm\\ntorch\\ntorchvision\")\n",
    "\n",
    "shutil.make_archive(app_path, 'zip', app_path)\n",
    "\n",
    "print(\"App created successfully!\")"
   ]
  }
 ],
 "metadata": {
  "kernelspec": {
   "display_name": "ai",
   "language": "python",
   "name": "python3"
  },
  "language_info": {
   "codemirror_mode": {
    "name": "ipython",
    "version": 3
   },
   "file_extension": ".py",
   "mimetype": "text/x-python",
   "name": "python",
   "nbconvert_exporter": "python",
   "pygments_lexer": "ipython3",
   "version": "3.11.7"
  }
 },
 "nbformat": 4,
 "nbformat_minor": 2
}
